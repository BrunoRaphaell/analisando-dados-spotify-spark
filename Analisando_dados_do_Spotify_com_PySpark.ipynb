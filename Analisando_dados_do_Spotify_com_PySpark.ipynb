{
  "nbformat": 4,
  "nbformat_minor": 0,
  "metadata": {
    "colab": {
      "provenance": [],
      "collapsed_sections": [],
      "authorship_tag": "ABX9TyMa4fjMR114tRgW9PGx3TXo",
      "include_colab_link": true
    },
    "kernelspec": {
      "name": "python3",
      "display_name": "Python 3"
    },
    "language_info": {
      "name": "python"
    }
  },
  "cells": [
    {
      "cell_type": "markdown",
      "metadata": {
        "id": "view-in-github",
        "colab_type": "text"
      },
      "source": [
        "<a href=\"https://colab.research.google.com/github/BrunoRaphaell/analisando-dados-spotify-spark/blob/main/Analisando_dados_do_Spotify_com_PySpark.ipynb\" target=\"_parent\"><img src=\"https://colab.research.google.com/assets/colab-badge.svg\" alt=\"Open In Colab\"/></a>"
      ]
    },
    {
      "cell_type": "markdown",
      "source": [
        "# 1: Instalação"
      ],
      "metadata": {
        "id": "Pzc4e81LceuD"
      }
    },
    {
      "cell_type": "code",
      "source": [
        "!pip install pyspark"
      ],
      "metadata": {
        "colab": {
          "base_uri": "https://localhost:8080/"
        },
        "id": "gfaAlAn4aT5B",
        "outputId": "5b0ebaf1-d0c0-4b87-fdf9-45a336535aef"
      },
      "execution_count": 2,
      "outputs": [
        {
          "output_type": "stream",
          "name": "stdout",
          "text": [
            "Looking in indexes: https://pypi.org/simple, https://us-python.pkg.dev/colab-wheels/public/simple/\n",
            "Collecting pyspark\n",
            "  Downloading pyspark-3.3.1.tar.gz (281.4 MB)\n",
            "\u001b[K     |████████████████████████████████| 281.4 MB 41 kB/s \n",
            "\u001b[?25hCollecting py4j==0.10.9.5\n",
            "  Downloading py4j-0.10.9.5-py2.py3-none-any.whl (199 kB)\n",
            "\u001b[K     |████████████████████████████████| 199 kB 44.7 MB/s \n",
            "\u001b[?25hBuilding wheels for collected packages: pyspark\n",
            "  Building wheel for pyspark (setup.py) ... \u001b[?25l\u001b[?25hdone\n",
            "  Created wheel for pyspark: filename=pyspark-3.3.1-py2.py3-none-any.whl size=281845513 sha256=7e46b36c65f693a9cf0e2b7be160a6f251a0dabaf8cfe5945c514b3a1fc7f699\n",
            "  Stored in directory: /root/.cache/pip/wheels/42/59/f5/79a5bf931714dcd201b26025347785f087370a10a3329a899c\n",
            "Successfully built pyspark\n",
            "Installing collected packages: py4j, pyspark\n",
            "Successfully installed py4j-0.10.9.5 pyspark-3.3.1\n"
          ]
        }
      ]
    },
    {
      "cell_type": "markdown",
      "source": [
        "Importando o `SparkSession`:"
      ],
      "metadata": {
        "id": "F9hNPHN2BGfB"
      }
    },
    {
      "cell_type": "code",
      "source": [
        "from pyspark.sql import SparkSession"
      ],
      "metadata": {
        "id": "0R00UKAmBLsQ"
      },
      "execution_count": 3,
      "outputs": []
    },
    {
      "cell_type": "markdown",
      "source": [
        "Agora podemos iniciar nossa sessão Spark, que nada mais é que uma API que será utilizada para trabalhar com Spark. "
      ],
      "metadata": {
        "id": "6Nx8LOYeBQ7G"
      }
    },
    {
      "cell_type": "code",
      "source": [
        "spark = SparkSession\\\n",
        "    .builder\\\n",
        "    .master('local[*]')\\\n",
        "    .appName('Analisando Dados do Spotify')\\\n",
        "    .getOrCreate()"
      ],
      "metadata": {
        "id": "wqg19XmtBf65"
      },
      "execution_count": 6,
      "outputs": []
    },
    {
      "cell_type": "code",
      "source": [
        "spark"
      ],
      "metadata": {
        "colab": {
          "base_uri": "https://localhost:8080/",
          "height": 219
        },
        "id": "ItQG-Iz1BpTQ",
        "outputId": "3477fd0e-6d2d-4f87-c627-0f2997ba1634"
      },
      "execution_count": 7,
      "outputs": [
        {
          "output_type": "execute_result",
          "data": {
            "text/plain": [
              "<pyspark.sql.session.SparkSession at 0x7f250c695690>"
            ],
            "text/html": [
              "\n",
              "            <div>\n",
              "                <p><b>SparkSession - in-memory</b></p>\n",
              "                \n",
              "        <div>\n",
              "            <p><b>SparkContext</b></p>\n",
              "\n",
              "            <p><a href=\"http://99a272086960:4050\">Spark UI</a></p>\n",
              "\n",
              "            <dl>\n",
              "              <dt>Version</dt>\n",
              "                <dd><code>v3.3.1</code></dd>\n",
              "              <dt>Master</dt>\n",
              "                <dd><code>local[*]</code></dd>\n",
              "              <dt>AppName</dt>\n",
              "                <dd><code>Iniciando com Spark</code></dd>\n",
              "            </dl>\n",
              "        </div>\n",
              "        \n",
              "            </div>\n",
              "        "
            ]
          },
          "metadata": {},
          "execution_count": 7
        }
      ]
    },
    {
      "cell_type": "markdown",
      "source": [
        "# 2: Projeto"
      ],
      "metadata": {
        "id": "TNroKF6jBv7g"
      }
    },
    {
      "cell_type": "markdown",
      "source": [
        "* `Acousticness/Acústica:` Variável numérica, medida de confiança de 0,0 a 1,0 se a faixa é acústica. 1.0 representa alta confiança de que a faixa é acústica.\n",
        "\n",
        "* `release_date/Data de lançamento:` Data em que a música foi lançada.\n",
        "\n",
        "* `Danceability/Dançabilidade:` Variável numérica, a dançabilidade descreve o quão adequada uma faixa é para dançar com base em uma combinação de elementos musicais, incluindo tempo, estabilidade do ritmo, força da batida e regularidade geral. Um valor de 0,0 é o menos dançável e 1,0 é o mais dançável.\n",
        "\n",
        "* `length/duração em ms:`Variável numérica, a duração da trilha em milissegundos.\n",
        "\n",
        "* `Energy/Energia:` Variável numérica, Energia é uma medida de 0,0 a 1,0 e representa uma medida perceptiva de intensidade e atividade. Normalmente, as faixas energéticas parecem rápidas, altas e barulhentas. Por exemplo, o death metal tem alta energia, enquanto um prelúdio de Bach tem uma pontuação baixa na escala. As características perceptivas que contribuem para este atributo incluem faixa dinâmica, intensidade percebida, timbre, taxa de início e entropia geral.\n",
        "\n",
        "* `Instrumentalness/Instrumentalidade:` Variável numérica, prevê se uma faixa não contém vocais. Os sons “Ooh” e “aah” são tratados como instrumentais neste contexto. Faixas de rap ou de palavras faladas são claramente “vocais”. Quanto mais próximo o valor de instrumentalidade estiver de 1,0, maior a probabilidade de a faixa não conter conteúdo vocal. Valores acima de 0,5 destinam-se a representar faixas instrumentais, mas a confiança é maior à medida que o valor se aproxima de 1,0.\n",
        "\n",
        "* `Liveness/ Ao vivo:` Variável numérica, detecta a presença de um público na gravação. Valores mais altos de vivacidade representam uma probabilidade maior de que a faixa tenha sido executada ao vivo. Um valor acima de 0,8 fornece uma forte probabilidade de que a faixa esteja ativa.\n",
        "\n",
        "* `Loudness/ Volume em dB:` Variável numérica, volume geral de uma faixa em decibéis (dB). Os valores de volume são calculados em média em toda a faixa e são úteis para comparar o volume relativo das faixas. A sonoridade é a qualidade de um som que é o principal correlato psicológico da força física (amplitude). Os valores típicos variam entre -60 e 0 db.\n",
        "\n",
        "* `Popularity/Popularidade:` Variável numérica, a popularidade de uma faixa é um valor entre 0 e 100, sendo 100 o mais popular. A popularidade é calculada por algoritmo e é baseada, em grande parte, no número total de execuções que a faixa teve e quão recentes são essas execuções.\n",
        "\n",
        "* `Speechiness/Fala:` Variável numérica, a fala detecta a presença de palavras faladas em uma faixa. Quanto mais exclusivamente falada a gravação (por exemplo, talk show, audiolivro, poesia), mais próximo de 1,0 o valor do atributo. Valores acima de 0,66 descrevem faixas que provavelmente são feitas inteiramente de palavras faladas. Valores entre 0,33 e 0,66 descrevem faixas que podem conter música e fala, seja em seções ou em camadas, incluindo casos como música rap. Os valores abaixo de 0,33 provavelmente representam músicas e outras faixas que não são de fala.\n",
        "\n",
        "* `Tempo:` Variável numérica, Tempo estimado geral de uma faixa em batidas por minuto (BPM). Na terminologia musical, tempo é a velocidade ou ritmo de uma determinada peça e deriva diretamente da duração média da batida.\n"
      ],
      "metadata": {
        "id": "StZk31EJ-pm1"
      }
    },
    {
      "cell_type": "code",
      "source": [
        "from google.colab import files\n",
        "arquivo = files.upload()"
      ],
      "metadata": {
        "id": "HuHiE3SOb0Rn",
        "colab": {
          "base_uri": "https://localhost:8080/",
          "height": 73
        },
        "outputId": "60122a3c-2ee9-42ac-b432-c7e268da790c"
      },
      "execution_count": 8,
      "outputs": [
        {
          "output_type": "display_data",
          "data": {
            "text/plain": [
              "<IPython.core.display.HTML object>"
            ],
            "text/html": [
              "\n",
              "     <input type=\"file\" id=\"files-65ab5663-ca77-4fc6-9b9e-8543baba36c8\" name=\"files[]\" multiple disabled\n",
              "        style=\"border:none\" />\n",
              "     <output id=\"result-65ab5663-ca77-4fc6-9b9e-8543baba36c8\">\n",
              "      Upload widget is only available when the cell has been executed in the\n",
              "      current browser session. Please rerun this cell to enable.\n",
              "      </output>\n",
              "      <script>// Copyright 2017 Google LLC\n",
              "//\n",
              "// Licensed under the Apache License, Version 2.0 (the \"License\");\n",
              "// you may not use this file except in compliance with the License.\n",
              "// You may obtain a copy of the License at\n",
              "//\n",
              "//      http://www.apache.org/licenses/LICENSE-2.0\n",
              "//\n",
              "// Unless required by applicable law or agreed to in writing, software\n",
              "// distributed under the License is distributed on an \"AS IS\" BASIS,\n",
              "// WITHOUT WARRANTIES OR CONDITIONS OF ANY KIND, either express or implied.\n",
              "// See the License for the specific language governing permissions and\n",
              "// limitations under the License.\n",
              "\n",
              "/**\n",
              " * @fileoverview Helpers for google.colab Python module.\n",
              " */\n",
              "(function(scope) {\n",
              "function span(text, styleAttributes = {}) {\n",
              "  const element = document.createElement('span');\n",
              "  element.textContent = text;\n",
              "  for (const key of Object.keys(styleAttributes)) {\n",
              "    element.style[key] = styleAttributes[key];\n",
              "  }\n",
              "  return element;\n",
              "}\n",
              "\n",
              "// Max number of bytes which will be uploaded at a time.\n",
              "const MAX_PAYLOAD_SIZE = 100 * 1024;\n",
              "\n",
              "function _uploadFiles(inputId, outputId) {\n",
              "  const steps = uploadFilesStep(inputId, outputId);\n",
              "  const outputElement = document.getElementById(outputId);\n",
              "  // Cache steps on the outputElement to make it available for the next call\n",
              "  // to uploadFilesContinue from Python.\n",
              "  outputElement.steps = steps;\n",
              "\n",
              "  return _uploadFilesContinue(outputId);\n",
              "}\n",
              "\n",
              "// This is roughly an async generator (not supported in the browser yet),\n",
              "// where there are multiple asynchronous steps and the Python side is going\n",
              "// to poll for completion of each step.\n",
              "// This uses a Promise to block the python side on completion of each step,\n",
              "// then passes the result of the previous step as the input to the next step.\n",
              "function _uploadFilesContinue(outputId) {\n",
              "  const outputElement = document.getElementById(outputId);\n",
              "  const steps = outputElement.steps;\n",
              "\n",
              "  const next = steps.next(outputElement.lastPromiseValue);\n",
              "  return Promise.resolve(next.value.promise).then((value) => {\n",
              "    // Cache the last promise value to make it available to the next\n",
              "    // step of the generator.\n",
              "    outputElement.lastPromiseValue = value;\n",
              "    return next.value.response;\n",
              "  });\n",
              "}\n",
              "\n",
              "/**\n",
              " * Generator function which is called between each async step of the upload\n",
              " * process.\n",
              " * @param {string} inputId Element ID of the input file picker element.\n",
              " * @param {string} outputId Element ID of the output display.\n",
              " * @return {!Iterable<!Object>} Iterable of next steps.\n",
              " */\n",
              "function* uploadFilesStep(inputId, outputId) {\n",
              "  const inputElement = document.getElementById(inputId);\n",
              "  inputElement.disabled = false;\n",
              "\n",
              "  const outputElement = document.getElementById(outputId);\n",
              "  outputElement.innerHTML = '';\n",
              "\n",
              "  const pickedPromise = new Promise((resolve) => {\n",
              "    inputElement.addEventListener('change', (e) => {\n",
              "      resolve(e.target.files);\n",
              "    });\n",
              "  });\n",
              "\n",
              "  const cancel = document.createElement('button');\n",
              "  inputElement.parentElement.appendChild(cancel);\n",
              "  cancel.textContent = 'Cancel upload';\n",
              "  const cancelPromise = new Promise((resolve) => {\n",
              "    cancel.onclick = () => {\n",
              "      resolve(null);\n",
              "    };\n",
              "  });\n",
              "\n",
              "  // Wait for the user to pick the files.\n",
              "  const files = yield {\n",
              "    promise: Promise.race([pickedPromise, cancelPromise]),\n",
              "    response: {\n",
              "      action: 'starting',\n",
              "    }\n",
              "  };\n",
              "\n",
              "  cancel.remove();\n",
              "\n",
              "  // Disable the input element since further picks are not allowed.\n",
              "  inputElement.disabled = true;\n",
              "\n",
              "  if (!files) {\n",
              "    return {\n",
              "      response: {\n",
              "        action: 'complete',\n",
              "      }\n",
              "    };\n",
              "  }\n",
              "\n",
              "  for (const file of files) {\n",
              "    const li = document.createElement('li');\n",
              "    li.append(span(file.name, {fontWeight: 'bold'}));\n",
              "    li.append(span(\n",
              "        `(${file.type || 'n/a'}) - ${file.size} bytes, ` +\n",
              "        `last modified: ${\n",
              "            file.lastModifiedDate ? file.lastModifiedDate.toLocaleDateString() :\n",
              "                                    'n/a'} - `));\n",
              "    const percent = span('0% done');\n",
              "    li.appendChild(percent);\n",
              "\n",
              "    outputElement.appendChild(li);\n",
              "\n",
              "    const fileDataPromise = new Promise((resolve) => {\n",
              "      const reader = new FileReader();\n",
              "      reader.onload = (e) => {\n",
              "        resolve(e.target.result);\n",
              "      };\n",
              "      reader.readAsArrayBuffer(file);\n",
              "    });\n",
              "    // Wait for the data to be ready.\n",
              "    let fileData = yield {\n",
              "      promise: fileDataPromise,\n",
              "      response: {\n",
              "        action: 'continue',\n",
              "      }\n",
              "    };\n",
              "\n",
              "    // Use a chunked sending to avoid message size limits. See b/62115660.\n",
              "    let position = 0;\n",
              "    do {\n",
              "      const length = Math.min(fileData.byteLength - position, MAX_PAYLOAD_SIZE);\n",
              "      const chunk = new Uint8Array(fileData, position, length);\n",
              "      position += length;\n",
              "\n",
              "      const base64 = btoa(String.fromCharCode.apply(null, chunk));\n",
              "      yield {\n",
              "        response: {\n",
              "          action: 'append',\n",
              "          file: file.name,\n",
              "          data: base64,\n",
              "        },\n",
              "      };\n",
              "\n",
              "      let percentDone = fileData.byteLength === 0 ?\n",
              "          100 :\n",
              "          Math.round((position / fileData.byteLength) * 100);\n",
              "      percent.textContent = `${percentDone}% done`;\n",
              "\n",
              "    } while (position < fileData.byteLength);\n",
              "  }\n",
              "\n",
              "  // All done.\n",
              "  yield {\n",
              "    response: {\n",
              "      action: 'complete',\n",
              "    }\n",
              "  };\n",
              "}\n",
              "\n",
              "scope.google = scope.google || {};\n",
              "scope.google.colab = scope.google.colab || {};\n",
              "scope.google.colab._files = {\n",
              "  _uploadFiles,\n",
              "  _uploadFilesContinue,\n",
              "};\n",
              "})(self);\n",
              "</script> "
            ]
          },
          "metadata": {}
        },
        {
          "output_type": "stream",
          "name": "stdout",
          "text": [
            "Saving spotify_bruno.csv to spotify_bruno.csv\n"
          ]
        }
      ]
    },
    {
      "cell_type": "code",
      "source": [
        "df = spark.read.csv('spotify_bruno.csv',\n",
        "                    header=True, inferSchema=True)"
      ],
      "metadata": {
        "id": "OYZqJms6rN6L"
      },
      "execution_count": 9,
      "outputs": []
    },
    {
      "cell_type": "code",
      "source": [
        "df.printSchema()"
      ],
      "metadata": {
        "colab": {
          "base_uri": "https://localhost:8080/"
        },
        "id": "eEgzNq5er8v3",
        "outputId": "ab09dc29-d804-43b5-f0b7-d779239440de"
      },
      "execution_count": 10,
      "outputs": [
        {
          "output_type": "stream",
          "name": "stdout",
          "text": [
            "root\n",
            " |-- name: string (nullable = true)\n",
            " |-- album: string (nullable = true)\n",
            " |-- artist: string (nullable = true)\n",
            " |-- release_date: timestamp (nullable = true)\n",
            " |-- length: integer (nullable = true)\n",
            " |-- popularity: integer (nullable = true)\n",
            " |-- acousticness: double (nullable = true)\n",
            " |-- danceability: double (nullable = true)\n",
            " |-- energy: double (nullable = true)\n",
            " |-- instrumentalness: double (nullable = true)\n",
            " |-- liveness: double (nullable = true)\n",
            " |-- loudness: double (nullable = true)\n",
            " |-- speechiness: double (nullable = true)\n",
            " |-- tempo: double (nullable = true)\n",
            "\n"
          ]
        }
      ]
    },
    {
      "cell_type": "code",
      "source": [
        "df.show(5)"
      ],
      "metadata": {
        "colab": {
          "base_uri": "https://localhost:8080/"
        },
        "id": "PNhNHR-1bPTJ",
        "outputId": "d1bdfe3c-651c-465e-b9d9-f4174634e870"
      },
      "execution_count": 11,
      "outputs": [
        {
          "output_type": "stream",
          "name": "stdout",
          "text": [
            "+--------------------+--------------------+---------------+-------------------+------+----------+------------+------------+------+----------------+--------+--------+-----------+-------+\n",
            "|                name|               album|         artist|       release_date|length|popularity|acousticness|danceability|energy|instrumentalness|liveness|loudness|speechiness|  tempo|\n",
            "+--------------------+--------------------+---------------+-------------------+------+----------+------------+------------+------+----------------+--------+--------+-----------+-------+\n",
            "|Me & You Together...|Me & You Together...|       The 1975|2020-01-16 00:00:00|195339|        21|     1.86E-6|       0.242| 0.768|         0.00173|    0.31|  -5.741|     0.0358|106.578|\n",
            "|        Simplesmente|        Simplesmente|          Skank|2020-04-10 00:00:00|222986|        51|       0.362|        0.57| 0.514|         2.22E-5|   0.113|  -10.11|     0.0267| 86.025|\n",
            "|    Hello Girlfriend|            THE GLOW|          DMA'S|2020-07-10 00:00:00|232666|        34|     6.23E-4|       0.455| 0.909|         3.98E-6|   0.116|  -4.309|     0.0539|132.075|\n",
            "|She Moves In Her ...|Inside In / Insid...|      The Kooks|2006-01-01 00:00:00|169306|        69|       0.239|        0.41| 0.803|             0.0|   0.103|  -5.363|     0.0623|153.315|\n",
            "|          Girlfriend|        Off the Wall|Michael Jackson|1979-08-10 00:00:00|184933|        48|         0.4|       0.883|   0.4|         1.33E-5|  0.0756| -14.882|     0.0498|102.767|\n",
            "+--------------------+--------------------+---------------+-------------------+------+----------+------------+------------+------+----------------+--------+--------+-----------+-------+\n",
            "only showing top 5 rows\n",
            "\n"
          ]
        }
      ]
    },
    {
      "cell_type": "markdown",
      "source": [
        "## Primeira análise: Top 10 artistas mais curtidos"
      ],
      "metadata": {
        "id": "AvR1YlPfvKmT"
      }
    },
    {
      "cell_type": "code",
      "source": [
        "# Quantidade de amostras\n",
        "\n",
        "df.count()"
      ],
      "metadata": {
        "colab": {
          "base_uri": "https://localhost:8080/"
        },
        "id": "gfknGqyZvOWg",
        "outputId": "65dd2353-3148-49c2-877a-02f444dcd629"
      },
      "execution_count": 12,
      "outputs": [
        {
          "output_type": "execute_result",
          "data": {
            "text/plain": [
              "1870"
            ]
          },
          "metadata": {},
          "execution_count": 12
        }
      ]
    },
    {
      "cell_type": "code",
      "source": [
        "from pyspark.sql.functions import asc, desc\n",
        "\n",
        "df.groupBy('artist')\\\n",
        "            .count()\\\n",
        "            .sort(desc(\"count\"))\\\n",
        "            .show(10, truncate=False)\n"
      ],
      "metadata": {
        "colab": {
          "base_uri": "https://localhost:8080/"
        },
        "id": "oDFTr9RVvxwK",
        "outputId": "13cc17f9-475f-4366-f590-4f3cea3199c1"
      },
      "execution_count": 13,
      "outputs": [
        {
          "output_type": "stream",
          "name": "stdout",
          "text": [
            "+--------------------------+-----+\n",
            "|artist                    |count|\n",
            "+--------------------------+-----+\n",
            "|Oasis                     |157  |\n",
            "|The Beatles               |83   |\n",
            "|Dream Theater             |62   |\n",
            "|Ed Sheeran                |50   |\n",
            "|O Teatro Mágico           |42   |\n",
            "|Pink Floyd                |41   |\n",
            "|Raimundos                 |29   |\n",
            "|Selvagens à Procura de Lei|27   |\n",
            "|Queen                     |25   |\n",
            "|Validuaté                 |24   |\n",
            "+--------------------------+-----+\n",
            "only showing top 10 rows\n",
            "\n"
          ]
        }
      ]
    },
    {
      "cell_type": "markdown",
      "source": [
        "## Segunda análise: Quantidade de músicas por ano de lançamento"
      ],
      "metadata": {
        "id": "TH8v1Pm7yXos"
      }
    },
    {
      "cell_type": "code",
      "source": [
        "from pyspark.sql.functions import year\n",
        "\n",
        "df1 = df.withColumn(\"year\", year(df.release_date)).drop('release_date')\n",
        "df1.show()"
      ],
      "metadata": {
        "colab": {
          "base_uri": "https://localhost:8080/"
        },
        "id": "rLb1j6NVzLfz",
        "outputId": "1af35b6b-44a7-4890-c921-02dd99d05c39"
      },
      "execution_count": 14,
      "outputs": [
        {
          "output_type": "stream",
          "name": "stdout",
          "text": [
            "+--------------------+--------------------+--------------------+------+----------+------------+------------+------+----------------+--------+--------+-----------+-------+----+\n",
            "|                name|               album|              artist|length|popularity|acousticness|danceability|energy|instrumentalness|liveness|loudness|speechiness|  tempo|year|\n",
            "+--------------------+--------------------+--------------------+------+----------+------------+------------+------+----------------+--------+--------+-----------+-------+----+\n",
            "|Me & You Together...|Me & You Together...|            The 1975|195339|        21|     1.86E-6|       0.242| 0.768|         0.00173|    0.31|  -5.741|     0.0358|106.578|2020|\n",
            "|        Simplesmente|        Simplesmente|               Skank|222986|        51|       0.362|        0.57| 0.514|         2.22E-5|   0.113|  -10.11|     0.0267| 86.025|2020|\n",
            "|    Hello Girlfriend|            THE GLOW|               DMA'S|232666|        34|     6.23E-4|       0.455| 0.909|         3.98E-6|   0.116|  -4.309|     0.0539|132.075|2020|\n",
            "|She Moves In Her ...|Inside In / Insid...|           The Kooks|169306|        69|       0.239|        0.41| 0.803|             0.0|   0.103|  -5.363|     0.0623|153.315|2006|\n",
            "|          Girlfriend|        Off the Wall|     Michael Jackson|184933|        48|         0.4|       0.883|   0.4|         1.33E-5|  0.0756| -14.882|     0.0498|102.767|1979|\n",
            "|            Dançando|            Agridoce|            Agridoce|349573|        52|       0.719|        0.31| 0.398|          0.0343|   0.121|  -9.758|     0.0291|110.131|2011|\n",
            "|         A Palo Seco|Quebra Cabeça Elé...|  Oswaldo Montenegro|242880|        30|       0.681|       0.395| 0.689|             0.0|     0.7|  -9.191|      0.163| 99.721|2009|\n",
            "|Rodo cotidiano - ...|O Rappa - Acústic...|             O Rappa|207197|        46|       0.186|       0.483| 0.896|          1.9E-4|   0.965|  -5.206|     0.0887| 128.21|2016|\n",
            "|Amor Que Nos Faz ...|Palavrantiga Ao V...|        Palavrantiga|343560|        24|      0.0455|       0.405| 0.791|         2.25E-5|   0.684|  -9.363|     0.0509|159.913|2019|\n",
            "|   A Verdadeira Arte|    Um Velho Espelho|             Dnaipes|224846|        21|       0.254|       0.608| 0.869|             0.0|  0.0942|   -4.04|     0.0453| 95.966|2015|\n",
            "|        Mestre Jonas|               Terra|Sa, Rodrix & Guar...|204212|        36|       0.091|       0.671| 0.902|          0.0129|   0.196|  -8.097|     0.0496|111.258|1973|\n",
            "|         Cidade Nova|        Banda do Mar|        Banda do Mar|176320|        33|      0.0711|       0.607|  0.73|         1.68E-5|   0.144|  -4.959|     0.0319|140.216|2014|\n",
            "|            Cabrobro|           Ta Na Boa|         Tianastacia|196706|        45|     5.45E-4|       0.489| 0.934|             0.0|   0.328|  -4.381|       0.24|153.915|2000|\n",
            "|Diante De Qualque...|              Sol-Te|            Suricato|239480|        22|       0.217|       0.555|  0.49|             0.0|   0.111|   -9.39|     0.0246| 92.094|2014|\n",
            "|           Da Rotina|    Como Diz o Outro|             Crombie|242546|        15|       0.518|       0.739| 0.339|         0.00136|  0.0772| -12.536|     0.0411| 112.98|2016|\n",
            "|         Next to You|Songs from the Va...|    John Vincent III|256519|        70|       0.633|       0.443| 0.419|         0.00183|   0.404|  -7.975|     0.0321|132.204|2019|\n",
            "|          Disco Rock|        Bloco na Rua|     Papas Da Língua|228973|        37|     0.00205|       0.561|  0.78|             0.0|   0.686|  -6.296|     0.0326|133.047|2011|\n",
            "|   Cowboys Don’t Cry|        Cowboy Tears|         Oliver Tree|189969|        68|       0.217|       0.608| 0.638|             0.0|   0.324|  -7.215|     0.0561| 87.956|2022|\n",
            "|     Time Won't Wait|            Dynamite|          Jamiroquai|301733|        44|     0.00666|       0.736| 0.875|         4.54E-6|   0.151|  -5.841|     0.0333| 128.01|2005|\n",
            "|           O Deserto|           O Deserto|         Tom Stracke|264320|        15|      0.0176|        0.43| 0.488|         2.87E-6|   0.132| -11.528|     0.0284|158.028|2022|\n",
            "+--------------------+--------------------+--------------------+------+----------+------------+------------+------+----------------+--------+--------+-----------+-------+----+\n",
            "only showing top 20 rows\n",
            "\n"
          ]
        }
      ]
    },
    {
      "cell_type": "code",
      "source": [
        "df1.groupBy('year')\\\n",
        "            .count()\\\n",
        "            .sort(desc(\"count\"))\\\n",
        "            .show(15)"
      ],
      "metadata": {
        "colab": {
          "base_uri": "https://localhost:8080/"
        },
        "id": "8o1Dld2a3WWC",
        "outputId": "c62323d1-51f2-4d34-d720-e8c2fd195044"
      },
      "execution_count": 15,
      "outputs": [
        {
          "output_type": "stream",
          "name": "stdout",
          "text": [
            "+----+-----+\n",
            "|year|count|\n",
            "+----+-----+\n",
            "|2017|  253|\n",
            "|2016|  219|\n",
            "|2018|  132|\n",
            "|2014|  129|\n",
            "|2015|  125|\n",
            "|2019|   83|\n",
            "|2013|   77|\n",
            "|2011|   64|\n",
            "|1995|   48|\n",
            "|2012|   47|\n",
            "|2009|   46|\n",
            "|1997|   45|\n",
            "|1994|   44|\n",
            "|2005|   37|\n",
            "|2003|   36|\n",
            "+----+-----+\n",
            "only showing top 15 rows\n",
            "\n"
          ]
        }
      ]
    },
    {
      "cell_type": "markdown",
      "source": [
        "## Terceira análise: Analisar as maiores músicas\n",
        "\n",
        "[documentação](https://sparkbyexamples.com/pyspark/pyspark-withcolumn/)"
      ],
      "metadata": {
        "id": "Nsqk_DXK4IIK"
      }
    },
    {
      "cell_type": "code",
      "source": [
        "from pyspark.sql.functions import col\n",
        "\n",
        "df1 = df1.withColumn(\"length\",col(\"length\")/60000)"
      ],
      "metadata": {
        "id": "Rp2PbR7K4TvT"
      },
      "execution_count": 16,
      "outputs": []
    },
    {
      "cell_type": "code",
      "source": [
        "df1.show()"
      ],
      "metadata": {
        "colab": {
          "base_uri": "https://localhost:8080/"
        },
        "id": "lo3y3rde6SPu",
        "outputId": "a04838d7-90c7-4819-920a-58e6b4955e96"
      },
      "execution_count": 17,
      "outputs": [
        {
          "output_type": "stream",
          "name": "stdout",
          "text": [
            "+--------------------+--------------------+--------------------+------------------+----------+------------+------------+------+----------------+--------+--------+-----------+-------+----+\n",
            "|                name|               album|              artist|            length|popularity|acousticness|danceability|energy|instrumentalness|liveness|loudness|speechiness|  tempo|year|\n",
            "+--------------------+--------------------+--------------------+------------------+----------+------------+------------+------+----------------+--------+--------+-----------+-------+----+\n",
            "|Me & You Together...|Me & You Together...|            The 1975|           3.25565|        21|     1.86E-6|       0.242| 0.768|         0.00173|    0.31|  -5.741|     0.0358|106.578|2020|\n",
            "|        Simplesmente|        Simplesmente|               Skank|3.7164333333333333|        51|       0.362|        0.57| 0.514|         2.22E-5|   0.113|  -10.11|     0.0267| 86.025|2020|\n",
            "|    Hello Girlfriend|            THE GLOW|               DMA'S|3.8777666666666666|        34|     6.23E-4|       0.455| 0.909|         3.98E-6|   0.116|  -4.309|     0.0539|132.075|2020|\n",
            "|She Moves In Her ...|Inside In / Insid...|           The Kooks|2.8217666666666665|        69|       0.239|        0.41| 0.803|             0.0|   0.103|  -5.363|     0.0623|153.315|2006|\n",
            "|          Girlfriend|        Off the Wall|     Michael Jackson|3.0822166666666666|        48|         0.4|       0.883|   0.4|         1.33E-5|  0.0756| -14.882|     0.0498|102.767|1979|\n",
            "|            Dançando|            Agridoce|            Agridoce| 5.826216666666666|        52|       0.719|        0.31| 0.398|          0.0343|   0.121|  -9.758|     0.0291|110.131|2011|\n",
            "|         A Palo Seco|Quebra Cabeça Elé...|  Oswaldo Montenegro|             4.048|        30|       0.681|       0.395| 0.689|             0.0|     0.7|  -9.191|      0.163| 99.721|2009|\n",
            "|Rodo cotidiano - ...|O Rappa - Acústic...|             O Rappa|3.4532833333333333|        46|       0.186|       0.483| 0.896|          1.9E-4|   0.965|  -5.206|     0.0887| 128.21|2016|\n",
            "|Amor Que Nos Faz ...|Palavrantiga Ao V...|        Palavrantiga|             5.726|        24|      0.0455|       0.405| 0.791|         2.25E-5|   0.684|  -9.363|     0.0509|159.913|2019|\n",
            "|   A Verdadeira Arte|    Um Velho Espelho|             Dnaipes|3.7474333333333334|        21|       0.254|       0.608| 0.869|             0.0|  0.0942|   -4.04|     0.0453| 95.966|2015|\n",
            "|        Mestre Jonas|               Terra|Sa, Rodrix & Guar...|3.4035333333333333|        36|       0.091|       0.671| 0.902|          0.0129|   0.196|  -8.097|     0.0496|111.258|1973|\n",
            "|         Cidade Nova|        Banda do Mar|        Banda do Mar|2.9386666666666668|        33|      0.0711|       0.607|  0.73|         1.68E-5|   0.144|  -4.959|     0.0319|140.216|2014|\n",
            "|            Cabrobro|           Ta Na Boa|         Tianastacia|3.2784333333333335|        45|     5.45E-4|       0.489| 0.934|             0.0|   0.328|  -4.381|       0.24|153.915|2000|\n",
            "|Diante De Qualque...|              Sol-Te|            Suricato|3.9913333333333334|        22|       0.217|       0.555|  0.49|             0.0|   0.111|   -9.39|     0.0246| 92.094|2014|\n",
            "|           Da Rotina|    Como Diz o Outro|             Crombie| 4.042433333333333|        15|       0.518|       0.739| 0.339|         0.00136|  0.0772| -12.536|     0.0411| 112.98|2016|\n",
            "|         Next to You|Songs from the Va...|    John Vincent III| 4.275316666666667|        70|       0.633|       0.443| 0.419|         0.00183|   0.404|  -7.975|     0.0321|132.204|2019|\n",
            "|          Disco Rock|        Bloco na Rua|     Papas Da Língua|3.8162166666666666|        37|     0.00205|       0.561|  0.78|             0.0|   0.686|  -6.296|     0.0326|133.047|2011|\n",
            "|   Cowboys Don’t Cry|        Cowboy Tears|         Oliver Tree|           3.16615|        68|       0.217|       0.608| 0.638|             0.0|   0.324|  -7.215|     0.0561| 87.956|2022|\n",
            "|     Time Won't Wait|            Dynamite|          Jamiroquai| 5.028883333333333|        44|     0.00666|       0.736| 0.875|         4.54E-6|   0.151|  -5.841|     0.0333| 128.01|2005|\n",
            "|           O Deserto|           O Deserto|         Tom Stracke| 4.405333333333333|        15|      0.0176|        0.43| 0.488|         2.87E-6|   0.132| -11.528|     0.0284|158.028|2022|\n",
            "+--------------------+--------------------+--------------------+------------------+----------+------------+------------+------+----------------+--------+--------+-----------+-------+----+\n",
            "only showing top 20 rows\n",
            "\n"
          ]
        }
      ]
    },
    {
      "cell_type": "code",
      "source": [
        "df1.agg({'length': 'min'}).show()"
      ],
      "metadata": {
        "colab": {
          "base_uri": "https://localhost:8080/"
        },
        "id": "lpS28uAc6MtS",
        "outputId": "18e7a4ce-5660-4a3e-b2dc-3a60786acaa0"
      },
      "execution_count": 18,
      "outputs": [
        {
          "output_type": "stream",
          "name": "stdout",
          "text": [
            "+-----------+\n",
            "|min(length)|\n",
            "+-----------+\n",
            "|     0.2595|\n",
            "+-----------+\n",
            "\n"
          ]
        }
      ]
    },
    {
      "cell_type": "code",
      "source": [
        "df1.agg({'length': 'max'}).show()"
      ],
      "metadata": {
        "colab": {
          "base_uri": "https://localhost:8080/"
        },
        "id": "h4LE4j_X6spN",
        "outputId": "60b990b3-9a63-4b61-ad84-794e1f73cb90"
      },
      "execution_count": 19,
      "outputs": [
        {
          "output_type": "stream",
          "name": "stdout",
          "text": [
            "+------------------+\n",
            "|       max(length)|\n",
            "+------------------+\n",
            "|24.000216666666667|\n",
            "+------------------+\n",
            "\n"
          ]
        }
      ]
    },
    {
      "cell_type": "markdown",
      "source": [
        "Vamos verificar quais são essas músicas?\n"
      ],
      "metadata": {
        "id": "7FfqhLBt6xVr"
      }
    },
    {
      "cell_type": "code",
      "source": [
        "# Maior música curtida:\n",
        "\n",
        "df1.filter(df1.length == 24.000216666666667).show()"
      ],
      "metadata": {
        "colab": {
          "base_uri": "https://localhost:8080/"
        },
        "id": "ZC9mqm-Y60SQ",
        "outputId": "57f25ad0-0088-4e39-9ed1-2a7e8909ea5a"
      },
      "execution_count": 20,
      "outputs": [
        {
          "output_type": "stream",
          "name": "stdout",
          "text": [
            "+----------+----------+-------------+------------------+----------+------------+------------+------+----------------+--------+--------+-----------+-------+----+\n",
            "|      name|     album|       artist|            length|popularity|acousticness|danceability|energy|instrumentalness|liveness|loudness|speechiness|  tempo|year|\n",
            "+----------+----------+-------------+------------------+----------+------------+------------+------+----------------+--------+--------+-----------+-------+----+\n",
            "|Octavarium|Octavarium|Dream Theater|24.000216666666667|        41|      0.0109|       0.309| 0.745|         0.00159|   0.103|   -6.73|     0.0462|127.928|2005|\n",
            "+----------+----------+-------------+------------------+----------+------------+------------+------+----------------+--------+--------+-----------+-------+----+\n",
            "\n"
          ]
        }
      ]
    },
    {
      "cell_type": "code",
      "source": [
        "# Menor música curtida:\n",
        "\n",
        "df1.filter(df1.length == 0.2595).show()"
      ],
      "metadata": {
        "colab": {
          "base_uri": "https://localhost:8080/"
        },
        "id": "ubbvQTMp784B",
        "outputId": "7d168bdf-8e54-4831-abf5-39c4b6754f97"
      },
      "execution_count": 21,
      "outputs": [
        {
          "output_type": "stream",
          "name": "stdout",
          "text": [
            "+-----+-----+------------+------+----------+------------+------------+------+----------------+--------+--------+-----------+-------+----+\n",
            "| name|album|      artist|length|popularity|acousticness|danceability|energy|instrumentalness|liveness|loudness|speechiness|  tempo|year|\n",
            "+-----+-----+------------+------+----------+------------+------------+------+----------------+--------+--------+-----------+-------+----+\n",
            "|Poema| Vida|Melqui Brito|0.2595|         0|       0.808|        0.66| 0.244|             0.0|   0.526| -15.335|      0.548|131.683|2015|\n",
            "+-----+-----+------------+------+----------+------------+------------+------+----------------+--------+--------+-----------+-------+----+\n",
            "\n"
          ]
        }
      ]
    },
    {
      "cell_type": "code",
      "source": [
        "df.filter(df.artist == \"Melqui Brito\").show(truncate=False)"
      ],
      "metadata": {
        "colab": {
          "base_uri": "https://localhost:8080/"
        },
        "id": "L8DYkEeP8PXY",
        "outputId": "952237a1-f200-4b67-a596-6c8259d114df"
      },
      "execution_count": 22,
      "outputs": [
        {
          "output_type": "stream",
          "name": "stdout",
          "text": [
            "+------------------------------+--------------+------------+-------------------+------+----------+------------+------------+------+----------------+--------+--------+-----------+-------+\n",
            "|name                          |album         |artist      |release_date       |length|popularity|acousticness|danceability|energy|instrumentalness|liveness|loudness|speechiness|tempo  |\n",
            "+------------------------------+--------------+------------+-------------------+------+----------+------------+------------+------+----------------+--------+--------+-----------+-------+\n",
            "|Eterno                        |Vida          |Melqui Brito|2015-11-27 00:00:00|196050|0         |0.903       |0.455       |0.403 |0.00429         |0.115   |-9.344  |0.0314     |147.768|\n",
            "|A Dor                         |Por Outro Lado|Melqui Brito|2018-08-27 00:00:00|140541|0         |0.911       |0.517       |0.174 |2.01E-4         |0.105   |-14.673 |0.0512     |141.752|\n",
            "|Meu Jardim                    |Poeta         |Melqui Brito|2017-01-23 00:00:00|228232|0         |0.448       |0.764       |0.364 |1.34E-5         |0.124   |-7.429  |0.0572     |126.806|\n",
            "|Poema                         |Vida          |Melqui Brito|2015-11-27 00:00:00|15570 |0         |0.808       |0.66        |0.244 |0.0             |0.526   |-15.335 |0.548      |131.683|\n",
            "|Mundo Poesia                  |Vida          |Melqui Brito|2015-11-27 00:00:00|141976|0         |0.928       |0.651       |0.335 |0.00162         |0.111   |-10.96  |0.0347     |80.873 |\n",
            "|Vida                          |Vida          |Melqui Brito|2015-11-27 00:00:00|215903|0         |0.89        |0.522       |0.282 |0.00532         |0.0911  |-12.432 |0.0313     |113.047|\n",
            "|Há de Vir                     |Vida          |Melqui Brito|2015-11-27 00:00:00|170058|0         |0.873       |0.447       |0.305 |0.00549         |0.0977  |-12.181 |0.0348     |108.915|\n",
            "|Dançar Com Ela                |Vida          |Melqui Brito|2015-11-27 00:00:00|222512|1         |0.947       |0.442       |0.268 |0.00552         |0.112   |-12.885 |0.0319     |102.131|\n",
            "|Cantar e Voar                 |Vida          |Melqui Brito|2015-11-27 00:00:00|169614|0         |0.933       |0.508       |0.261 |0.0886          |0.112   |-12.913 |0.0301     |51.289 |\n",
            "|Minha História                |Vida          |Melqui Brito|2015-11-27 00:00:00|189441|0         |0.887       |0.514       |0.343 |0.00467         |0.0949  |-9.848  |0.0318     |152.429|\n",
            "|Ainda Existe Chance           |Vida          |Melqui Brito|2015-11-27 00:00:00|138084|0         |0.859       |0.618       |0.352 |0.00374         |0.118   |-9.762  |0.0346     |118.484|\n",
            "|Picos                         |Vida          |Melqui Brito|2015-11-27 00:00:00|152974|0         |0.879       |0.529       |0.383 |4.98E-5         |0.141   |-8.527  |0.0368     |82.067 |\n",
            "|Até Que o Vento Leve Minha Voz|Vida          |Melqui Brito|2015-11-27 00:00:00|141401|0         |0.879       |0.542       |0.249 |5.87E-4         |0.113   |-11.587 |0.0321     |94.963 |\n",
            "+------------------------------+--------------+------------+-------------------+------+----------+------------+------------+------+----------------+--------+--------+-----------+-------+\n",
            "\n"
          ]
        }
      ]
    }
  ]
}